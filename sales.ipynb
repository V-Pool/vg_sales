{
 "cells": [
  {
   "cell_type": "markdown",
   "metadata": {},
   "source": [
    "In this notebook, we will analyze game sales and console units sold to determine which gaming consoles are the most successful. Additionally, we will examine whether specific regions or game genres contribute to the success of these consoles."
   ]
  },
  {
   "cell_type": "markdown",
   "metadata": {},
   "source": [
    "Import the needed modules."
   ]
  },
  {
   "cell_type": "code",
   "execution_count": null,
   "metadata": {},
   "outputs": [],
   "source": [
    "import pandas as pd\n",
    "import numpy as np\n",
    "import matplotlib.pyplot as plt\n",
    "import seaborn as sns"
   ]
  },
  {
   "cell_type": "markdown",
   "metadata": {},
   "source": [
    "Feature:\n",
    "Read in the data."
   ]
  },
  {
   "cell_type": "code",
   "execution_count": null,
   "metadata": {},
   "outputs": [],
   "source": [
    "console = pd.read_csv(r\"data/best_selling_consoles.csv\")\n",
    "games = pd.read_csv(r\"data/video_games_sales.csv\")"
   ]
  },
  {
   "cell_type": "markdown",
   "metadata": {},
   "source": [
    "Feature: Cleaning and merging the DataFrames and calculating new values."
   ]
  },
  {
   "cell_type": "markdown",
   "metadata": {},
   "source": [
    "Checking the games dataframe."
   ]
  },
  {
   "cell_type": "code",
   "execution_count": null,
   "metadata": {},
   "outputs": [],
   "source": [
    "games.head(5)"
   ]
  },
  {
   "cell_type": "code",
   "execution_count": null,
   "metadata": {},
   "outputs": [],
   "source": [
    "games.tail(5)"
   ]
  },
  {
   "cell_type": "code",
   "execution_count": null,
   "metadata": {},
   "outputs": [],
   "source": [
    "games.columns\n"
   ]
  },
  {
   "cell_type": "markdown",
   "metadata": {},
   "source": [
    "Cleaning games column names."
   ]
  },
  {
   "cell_type": "code",
   "execution_count": null,
   "metadata": {},
   "outputs": [],
   "source": [
    "games.columns = games.columns.str.title() .str.strip() .str.replace('_', ' ')"
   ]
  },
  {
   "cell_type": "markdown",
   "metadata": {},
   "source": [
    "Dropping unneeded games columns."
   ]
  },
  {
   "cell_type": "code",
   "execution_count": null,
   "metadata": {},
   "outputs": [],
   "source": [
    "games_clean = games.drop('Rank', axis=1)\n",
    "games_clean.head(5)"
   ]
  },
  {
   "cell_type": "markdown",
   "metadata": {},
   "source": [
    "Checking console."
   ]
  },
  {
   "cell_type": "code",
   "execution_count": null,
   "metadata": {},
   "outputs": [],
   "source": [
    "console.head(10)"
   ]
  },
  {
   "cell_type": "markdown",
   "metadata": {},
   "source": [
    "Checking console column names."
   ]
  },
  {
   "cell_type": "code",
   "execution_count": null,
   "metadata": {},
   "outputs": [],
   "source": [
    "console.columns"
   ]
  },
  {
   "cell_type": "markdown",
   "metadata": {},
   "source": [
    "Dropping not needed columns."
   ]
  },
  {
   "cell_type": "code",
   "execution_count": null,
   "metadata": {},
   "outputs": [],
   "source": [
    "console_clean = console.drop('Remarks', axis=1)"
   ]
  },
  {
   "cell_type": "markdown",
   "metadata": {},
   "source": [
    "Renaming 'Console name' to 'Platform'."
   ]
  },
  {
   "cell_type": "code",
   "execution_count": null,
   "metadata": {},
   "outputs": [],
   "source": [
    "console_clean = console_clean.rename(columns={'Console Name': 'Platform'})\n",
    "console_clean.head(10)"
   ]
  },
  {
   "cell_type": "markdown",
   "metadata": {},
   "source": [
    "Checking how each dataframe lists different consoles in the platform column."
   ]
  },
  {
   "cell_type": "code",
   "execution_count": null,
   "metadata": {},
   "outputs": [],
   "source": [
    "console_clean['Platform'].unique()"
   ]
  },
  {
   "cell_type": "code",
   "execution_count": null,
   "metadata": {},
   "outputs": [],
   "source": [
    "games_clean['Platform'].unique()"
   ]
  },
  {
   "cell_type": "markdown",
   "metadata": {},
   "source": [
    "Matching and verifying the platforms in the console dataframe so it can merge with console dataframe. *Interesting tidbit I wrote this matching out by hand on a sheet of paper before typing to make sure that it all was exact.  "
   ]
  },
  {
   "cell_type": "code",
   "execution_count": null,
   "metadata": {},
   "outputs": [],
   "source": [
    "platform_matching ={\n",
    "    'NES': 'NES/Famicom',\n",
    "    'GB': 'Game Boy',\n",
    "    'DS': 'Nintendo DS',\n",
    "    'X360': 'Xbox 360',\n",
    "    'PS3': 'PlayStation 3',\n",
    "    'PS2': 'PlayStation 2',\n",
    "    'SNES': 'SNES/Super Famicom',\n",
    "    'GBA': 'Game Boy Advance',\n",
    "    '3DS': 'Nintendo 3DS',\n",
    "    'PS4': 'PlayStation 4',\n",
    "    'N64': 'Nintendo 64',\n",
    "    'PS': 'PlayStation',\n",
    "    'XB': 'Xbox',\n",
    "    '2600': 'Atari 2600',\n",
    "    'PSP': 'PlayStation Portable',\n",
    "    'XOne': 'Xbox One',\n",
    "    'GC':'GameCube',\n",
    "    'WiiU':'Wii U',\n",
    "    'GEN':'Sega Genesis/Mega Drive',\n",
    "    'DC': 'DreamCast',\n",
    "    'PSV': 'PlayStation 5',\n",
    "    'SAT': 'Sega Saturn',\n",
    "    'SCD': 'Sega CD',\n",
    "    'WS':'Wonderswan',\n",
    "    'TG16': 'PC Engine/TurboGrafx-16',\n",
    "    'GG':'Sega Game Gear'}\n",
    "\n",
    "\n",
    "games_clean['Platform'] = games_clean['Platform'].replace(platform_matching)\n",
    "games_clean"
   ]
  },
  {
   "cell_type": "markdown",
   "metadata": {},
   "source": [
    "Merging the dataframes on the Platform column."
   ]
  },
  {
   "cell_type": "code",
   "execution_count": null,
   "metadata": {},
   "outputs": [],
   "source": [
    "games_console_mergered = pd.merge(games_clean, console_clean, on='Platform', how='inner')\n",
    "games_console_mergered.head(10)"
   ]
  },
  {
   "cell_type": "markdown",
   "metadata": {},
   "source": [
    "Renaming columns in the merged dataframe."
   ]
  },
  {
   "cell_type": "code",
   "execution_count": null,
   "metadata": {},
   "outputs": [],
   "source": [
    "cols_rename = {'Type': 'Console Type',\n",
    "    'Company':'Console Manufacturer',\n",
    "    'Released Year': 'Console Released',\n",
    "    'Discontinuation Year': 'Console Discontinued',\n",
    "    'Units sold (million)': 'Consoles Sold'}\n",
    "\n",
    "merged_col_rename = games_console_mergered.rename(columns=(cols_rename))\n",
    "merged_col_rename.head(5)"
   ]
  },
  {
   "cell_type": "markdown",
   "metadata": {},
   "source": [
    "Checking for nulls."
   ]
  },
  {
   "cell_type": "code",
   "execution_count": null,
   "metadata": {},
   "outputs": [],
   "source": [
    "merged_col_rename.isna().sum()"
   ]
  },
  {
   "cell_type": "markdown",
   "metadata": {},
   "source": [
    "Filling the nulls."
   ]
  },
  {
   "cell_type": "code",
   "execution_count": null,
   "metadata": {},
   "outputs": [],
   "source": [
    "merged_col_rename['Year'] = merged_col_rename['Year'].fillna(0).astype(int)\n",
    "merged_col_rename['Publisher'] = merged_col_rename['Publisher'].fillna('Unknown')"
   ]
  },
  {
   "cell_type": "markdown",
   "metadata": {},
   "source": [
    "Creating a couple unique values from the combined dataframe."
   ]
  },
  {
   "cell_type": "markdown",
   "metadata": {},
   "source": [
    "Matching the game release year to the console release year to get the launch global sales of the games."
   ]
  },
  {
   "cell_type": "code",
   "execution_count": null,
   "metadata": {},
   "outputs": [],
   "source": [
    "games_yr_console_released = merged_col_rename[merged_col_rename['Year'] == merged_col_rename[\"Console Released\"]]\n",
    "games_yr_console_released.head(5)"
   ]
  },
  {
   "cell_type": "markdown",
   "metadata": {},
   "source": [
    "Plot 1:\n",
    "Plotting the launch year games sales."
   ]
  },
  {
   "cell_type": "code",
   "execution_count": null,
   "metadata": {},
   "outputs": [],
   "source": [
    "launch_year_game_sales = games_yr_console_released.groupby('Platform')['Global Sales'].sum().reset_index()\n",
    "\n",
    "plt.figure(figsize=(12, 6))\n",
    "plt.bar(launch_year_game_sales['Platform'], launch_year_game_sales['Global Sales'])\n",
    "plt.title('Console Launch Year Game Sales')\n",
    "plt.xlabel('Console')\n",
    "plt.xticks(rotation=90)\n",
    "plt.ylabel('Launch Year Game Sales(Millions)')"
   ]
  },
  {
   "cell_type": "markdown",
   "metadata": {},
   "source": [
    "The Wii had a great Launch year in comparison to the other consoles."
   ]
  },
  {
   "cell_type": "markdown",
   "metadata": {},
   "source": [
    "Matching the game release year to console discontinued year to get the global sales of the games in the last year of the consoles life."
   ]
  },
  {
   "cell_type": "code",
   "execution_count": null,
   "metadata": {},
   "outputs": [],
   "source": [
    "games_console_discontinued = merged_col_rename[merged_col_rename['Year'] == merged_col_rename[\"Console Discontinued\"]]\n",
    "console_discontinued_games = games_console_discontinued.groupby('Platform')['Global Sales'].sum().reset_index()\n",
    "console_discontinued_games"
   ]
  },
  {
   "cell_type": "markdown",
   "metadata": {},
   "source": [
    "Plot 2:\n",
    "Plotting the games that launched in the consoles final year."
   ]
  },
  {
   "cell_type": "code",
   "execution_count": null,
   "metadata": {},
   "outputs": [],
   "source": [
    "plt.figure(figsize=(12, 6))\n",
    "plt.bar(console_discontinued_games['Platform'], console_discontinued_games['Global Sales'])\n",
    "plt.title('Console Launch Year Game Sales')\n",
    "plt.xlabel('Console')\n",
    "plt.xticks(rotation=90)\n",
    "plt.ylabel('Launch Year Game Sales(Millions)')"
   ]
  },
  {
   "cell_type": "markdown",
   "metadata": {},
   "source": [
    "As you can see theres very few consoles that even had games that launched in last year of the consoles life. Again the Wii had the best end life just as it had the best launch year in terms of the global sales of games. "
   ]
  },
  {
   "cell_type": "markdown",
   "metadata": {},
   "source": [
    "Plot 3: \n",
    "A plot to show the number in millions of console units sold globally. "
   ]
  },
  {
   "cell_type": "code",
   "execution_count": null,
   "metadata": {},
   "outputs": [],
   "source": [
    "plt.figure(figsize=(12, 6))\n",
    "plt.bar(merged_col_rename['Platform'], merged_col_rename[\"Consoles Sold\"])\n",
    "plt.title('Consoles Sold')\n",
    "plt.xlabel('Console')\n",
    "plt.xticks(rotation=90)\n",
    "plt.ylabel('Units Sold (Millions)')\n",
    "plt.show()"
   ]
  },
  {
   "cell_type": "markdown",
   "metadata": {},
   "source": [
    "Feature: 3 plots have been made.\n",
    "Don't worry though they will still be a few more plots on this journey through sales data to keep you entertained.  "
   ]
  },
  {
   "cell_type": "markdown",
   "metadata": {},
   "source": [
    "Grouping global game sales by console. "
   ]
  },
  {
   "cell_type": "code",
   "execution_count": null,
   "metadata": {},
   "outputs": [],
   "source": [
    "global_sales_platform = merged_col_rename.groupby('Platform')['Global Sales'].sum().reset_index()\n",
    "global_sales_platform\n"
   ]
  },
  {
   "cell_type": "markdown",
   "metadata": {},
   "source": [
    "Plot 4: \n",
    "plotting global game sales by console."
   ]
  },
  {
   "cell_type": "code",
   "execution_count": null,
   "metadata": {},
   "outputs": [],
   "source": [
    "plt.figure(figsize=(12, 6))\n",
    "plt.plot(global_sales_platform['Platform'], global_sales_platform['Global Sales'])\n",
    "plt.title('Global Game Sales By Console')\n",
    "plt.xlabel('Console')\n",
    "plt.xticks(rotation=90)\n",
    "plt.ylabel('Global Game Sales(Millions)')"
   ]
  },
  {
   "cell_type": "markdown",
   "metadata": {},
   "source": [
    "The PlayStation 2 games clearly outsold all the other platforms with Xbox 360 second, WII third and the Nintendo DS all having greater success than all other Platforms game sales. "
   ]
  },
  {
   "cell_type": "markdown",
   "metadata": {},
   "source": [
    "Grouping and plotting the sales of the games by different regions. *This was one of the last plots I made for the project and discovered it was easier to plot with .plot()."
   ]
  },
  {
   "cell_type": "code",
   "execution_count": null,
   "metadata": {},
   "outputs": [],
   "source": [
    "regional_sales = merged_col_rename.groupby('Platform')[['Na Sales', 'Eu Sales', 'Jp Sales']].sum()\n",
    "\n",
    "\n",
    "\n",
    "regional_sales.plot(kind='bar', figsize=(12, 6), colormap= 'viridis')\n",
    "plt.title('Regional Game Sales by Console', fontsize=14)\n",
    "plt.xlabel('Console', fontsize= 12)\n",
    "plt.ylabel('Game Sales(Millions)', fontsize= 12)\n",
    "plt.tight_layout()\n"
   ]
  },
  {
   "cell_type": "markdown",
   "metadata": {},
   "source": [
    "Looks Like regardless of the console that the North American and European regions are the biggest contributers to global sales for all platforms.  "
   ]
  },
  {
   "cell_type": "markdown",
   "metadata": {},
   "source": [
    "Aggregating the console units Sold by first so the number doesn't end up being more units sold than people on the planet and the sum of the global sales to create a scatterplot. "
   ]
  },
  {
   "cell_type": "code",
   "execution_count": null,
   "metadata": {},
   "outputs": [],
   "source": [
    "consoles_scatter = merged_col_rename.groupby('Platform').agg({'Global Sales': 'sum', 'Consoles Sold': 'first' })\n",
    "\n",
    "\n",
    "\n",
    "plt.figure(figsize= (12, 6))\n",
    "sns.scatterplot(x='Consoles Sold', y='Global Sales', hue='Platform', data=consoles_scatter, palette='tab20', alpha= .99)\n",
    "plt.title('Game Sales VS Console Sold', fontsize= 16)\n",
    "plt.xlabel('Consoles Sold Worldwide (Millions)', fontsize= 14)\n",
    "plt.ylabel('Global Game Sales(Millions)', fontsize=14)\n",
    "plt.legend(fontsize=9, title='Platform', bbox_to_anchor=(1, 1))\n",
    "plt.tight_layout()"
   ]
  },
  {
   "cell_type": "markdown",
   "metadata": {},
   "source": [
    "You can see that the PlayStation 2 not only sold the most consoles but also the most games. This potentially shows that a greater console install base equates to higher sales of games. "
   ]
  },
  {
   "cell_type": "markdown",
   "metadata": {},
   "source": [
    "Feature: Create a pivot table and create a seaborn plot from the pivot.\n"
   ]
  },
  {
   "cell_type": "code",
   "execution_count": null,
   "metadata": {},
   "outputs": [],
   "source": [
    "genre_pivot = pd.pivot_table(merged_col_rename, index='Genre', columns='Platform', values='Global Sales', aggfunc='sum')\n",
    "genre_pivot\n"
   ]
  },
  {
   "cell_type": "markdown",
   "metadata": {},
   "source": [
    "Filling the NaNs of the pivot with 0 to make the heatmap complete. "
   ]
  },
  {
   "cell_type": "code",
   "execution_count": null,
   "metadata": {},
   "outputs": [],
   "source": [
    "genre_pivot = genre_pivot.fillna(0)\n",
    "genre_pivot"
   ]
  },
  {
   "cell_type": "markdown",
   "metadata": {},
   "source": [
    "Using seaborn to plot the heatmap using the created pivot table."
   ]
  },
  {
   "cell_type": "code",
   "execution_count": null,
   "metadata": {},
   "outputs": [],
   "source": [
    "plt.figure(figsize=(18, 9))\n",
    "sns.heatmap(genre_pivot, annot=True, cmap='coolwarm', fmt='.2f', linewidths=0.75)\n",
    "plt.title(\"Global Game Sales(millions) by Genre and Console\", fontsize=24)\n",
    "plt.xlabel('Console', fontsize=18)\n",
    "plt.ylabel('Genre', fontsize= 18)\n",
    "plt.tight_layout()\n"
   ]
  },
  {
   "cell_type": "markdown",
   "metadata": {},
   "source": [
    "See how action games and sports games contributed to the success of the Playstation 2 and that sports and misc games contributed the most to the Wiis. "
   ]
  },
  {
   "cell_type": "markdown",
   "metadata": {},
   "source": []
  }
 ],
 "metadata": {
  "kernelspec": {
   "display_name": "vgsales",
   "language": "python",
   "name": "python3"
  },
  "language_info": {
   "codemirror_mode": {
    "name": "ipython",
    "version": 3
   },
   "file_extension": ".py",
   "mimetype": "text/x-python",
   "name": "python",
   "nbconvert_exporter": "python",
   "pygments_lexer": "ipython3",
   "version": "3.13.0"
  }
 },
 "nbformat": 4,
 "nbformat_minor": 2
}
